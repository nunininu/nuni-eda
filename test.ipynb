{
 "cells": [
  {
   "cell_type": "code",
   "execution_count": 29,
   "id": "4b682cb6-296b-429e-bb6d-28ed684b6d17",
   "metadata": {},
   "outputs": [],
   "source": [
    "from president_speech.db.parquet_interpreter import read_parquet, get_parquet_full_path"
   ]
  },
  {
   "cell_type": "code",
   "execution_count": 30,
   "id": "e91fe2ce-c87c-4919-9629-2e3445790fa1",
   "metadata": {},
   "outputs": [],
   "source": [
    "import pandas as pd"
   ]
  },
  {
   "cell_type": "code",
   "execution_count": 80,
   "id": "20cdf177-8161-4526-8bbf-31da89b76f62",
   "metadata": {},
   "outputs": [],
   "source": [
    "    keyword = \"자유\"\n",
    "    asc = False"
   ]
  },
  {
   "cell_type": "code",
   "execution_count": 92,
   "id": "f83a576e-0a1a-422f-9dcb-e9c7fe04a24a",
   "metadata": {},
   "outputs": [],
   "source": [
    "def group_by_count(keyword:str, asc: bool = False, rcnt: int = 12):\n",
    "    \"\"\"\n",
    "    지정한 keyword로 필터링하여 대통령별로 그룹화하고, count를 기준으로 정렬하여 데이터프레임으로 반환합니다.\n",
    "    \"\"\""
   ]
  },
  {
   "cell_type": "code",
   "execution_count": 93,
   "id": "bc61a74d-d7c9-4d02-babb-3a407f00337e",
   "metadata": {},
   "outputs": [],
   "source": [
    "    data_path = get_parquet_full_path()"
   ]
  },
  {
   "cell_type": "code",
   "execution_count": 94,
   "id": "47ed5ddb-9388-4d18-9b17-81a7cf301dd4",
   "metadata": {},
   "outputs": [],
   "source": [
    "    df = pd.read_parquet(data_path)"
   ]
  },
  {
   "cell_type": "code",
   "execution_count": 95,
   "id": "3344560b-7a4d-4913-9f77-e5aa18ffc3b9",
   "metadata": {},
   "outputs": [],
   "source": [
    "    fdf = df[df['speech_text'].str.contains(keyword, case=False)]"
   ]
  },
  {
   "cell_type": "code",
   "execution_count": 96,
   "id": "754c776d-4931-4c6c-895f-0ff2b40f470c",
   "metadata": {},
   "outputs": [
    {
     "name": "stdout",
     "output_type": "stream",
     "text": [
      "        division_number president                title        date location  \\\n",
      "5368            1305368       박정희  제5대 대통령 취임식 대통령 취임사  1963.12.17       국내   \n",
      "5374            1305374       박정희       1964년 대통령 연두교서  1964.01.10       국내   \n",
      "5375            1305375       박정희  자유의 날 10주년에 즈음한 메시지  1964.01.23       국내   \n",
      "5377            1305377       박정희        제45회 3·1절 경축사  1964.03.01       국내   \n",
      "5379            1305379       박정희      한·일회담에 관한 특별담화문  1964.03.26       국내   \n",
      "...                 ...       ...                  ...         ...      ...   \n",
      "102534          1401934       문재인        제74주년 광복절 경축사  2019.08.15       국내   \n",
      "102535          1401935       문재인      제74차 유엔 총회 기조연설  2019.09.24       국내   \n",
      "102546          1401946       문재인            제37회 국무회의  2020.07.21       국내   \n",
      "102550          1401950       문재인             수석·보좌관회의  2020.08.24       국내   \n",
      "102556          1401956       문재인            제48회 국무회의  2020.09.22       국내   \n",
      "\n",
      "          kind                                        speech_text  \n",
      "5368       취임사  \\n\\n\\n단군성조가 천혜의 이 강토 위에 국기를 닦으신지 반만년, 연면히 이어온 ...  \n",
      "5374      국회연설  존경하는 국회의장, 그리고 국회의원 여러분! \\n\\n\\n국회가 개원된 이래 난국타개...  \n",
      "5375       기념사  친애하는 반공애국청년 여러분! 그리고 사랑하는 동포 여러분! 오늘 「자유의 날」 제...  \n",
      "5377       기념사  오늘 뜻 깊은 제45회 3.1절을 맞이하여 선열의 영혼이 지켜보는 가운데 기념식전을...  \n",
      "5379    성명/담화문  친애하는 국민 여러분! \\n\\n\\n지난 며칠 동안 한, 일회담문제로 일부 학생들이 ...  \n",
      "...        ...                                                ...  \n",
      "102534     기념사  존경하는 국민 여러분,독립유공자와 유가족 여러분,재외ㆍ해외동포 여러분,3.1독립운동...  \n",
      "102535  성명/담화문  유엔과 회원국들의 헌신으로 세계의 많은 문제들이 해결되고, 평화를위한 노력들이 결실...  \n",
      "102546      회의  한국판 뉴딜은 국내 공간적으로는 수도권 중심에서 지역 중심으로 국가발전의 축을 이동...  \n",
      "102550      회의  국민 여러분, 코로나19가 발생한 이후 우리나라에서는 지금이 최대의 위기입니다. 우...  \n",
      "102556      회의  코로나19 재확산의 중대 고비를 온 국민이 힘을 모아 이겨내고 있습니다. 일일 국내...  \n",
      "\n",
      "[3064 rows x 7 columns]\n"
     ]
    }
   ],
   "source": [
    "    print(fdf)"
   ]
  },
  {
   "cell_type": "code",
   "execution_count": 97,
   "id": "24c3183e-4bec-49f4-9a9f-8592ba70d1fd",
   "metadata": {},
   "outputs": [],
   "source": [
    "    gdf = fdf.groupby(\"president\").size().reset_index(name=\"count\")"
   ]
  },
  {
   "cell_type": "code",
   "execution_count": 98,
   "id": "85b1c094-6ea3-42cd-8183-c0ca82eaf99c",
   "metadata": {},
   "outputs": [],
   "source": [
    "    sdf = gdf.sort_values(by='count', ascending=asc).reset_index(drop=True)"
   ]
  },
  {
   "cell_type": "code",
   "execution_count": 100,
   "id": "776ad1d3-6c49-41ee-8752-aea9a21f6b1e",
   "metadata": {},
   "outputs": [
    {
     "name": "stdout",
     "output_type": "stream",
     "text": [
      "   president  count\n",
      "0        박정희    513\n",
      "1        이승만    438\n",
      "2        노태우    399\n",
      "3        김대중    305\n",
      "4        문재인    275\n",
      "5        김영삼    274\n",
      "6        이명박    262\n",
      "7        전두환    242\n",
      "8        노무현    230\n",
      "9        박근혜    111\n",
      "10       최규하     14\n",
      "11       윤보선      1\n"
     ]
    }
   ],
   "source": [
    "print(sdf)"
   ]
  },
  {
   "cell_type": "code",
   "execution_count": 14,
   "id": "d2ec478a-67ab-4677-bfc0-43df02eb5b04",
   "metadata": {},
   "outputs": [],
   "source": [
    "##def entry_point():\n",
    "    typer.run(print_group_by_count)"
   ]
  },
  {
   "cell_type": "code",
   "execution_count": 15,
   "id": "58e6f78f-7208-4ffe-a7fe-d71c97e02f36",
   "metadata": {},
   "outputs": [],
   "source": [
    "presidents_speeches = {\n",
    "    \"박정희\": 513,\n",
    "    \"이승만\": 438,\n",
    "    \"노태우\": 399,\n",
    "    \"김대중\": 305,\n",
    "    \"문재인\": 275,\n",
    "    \"김영삼\": 274,\n",
    "    \"이명박\": 262,\n",
    "    \"전두환\": 242,\n",
    "    \"노무현\": 230,\n",
    "    \"박근혜\": 111,\n",
    "    \"최규하\": 14,\n",
    "    \"윤보선\": 1\n",
    "}"
   ]
  },
  {
   "cell_type": "code",
   "execution_count": 101,
   "id": "b73d59d0-dc48-4d0a-9f4f-a23c833f8054",
   "metadata": {},
   "outputs": [
    {
     "data": {
      "text/plain": [
       "dict_items([('박정희', 513), ('이승만', 438), ('노태우', 399), ('김대중', 305), ('문재인', 275), ('김영삼', 274), ('이명박', 262), ('전두환', 242), ('노무현', 230), ('박근혜', 111), ('최규하', 14), ('윤보선', 1)])"
      ]
     },
     "execution_count": 101,
     "metadata": {},
     "output_type": "execute_result"
    }
   ],
   "source": [
    "presidents_speeches.items()"
   ]
  },
  {
   "cell_type": "code",
   "execution_count": 102,
   "id": "ec3476ba-5322-4c53-863f-bfec7c7d1638",
   "metadata": {},
   "outputs": [
    {
     "name": "stdout",
     "output_type": "stream",
     "text": [
      "박정희 -> 513\n",
      "이승만 -> 438\n",
      "노태우 -> 399\n"
     ]
    }
   ],
   "source": [
    "for n, i in [('박정희', 513), ('이승만', 438), ('노태우', 399)]:\n",
    "    print(f\"{n} -> {i}\")"
   ]
  },
  {
   "cell_type": "code",
   "execution_count": 103,
   "id": "bd3b6aa9-4200-4830-a1ac-54a6d7789f13",
   "metadata": {},
   "outputs": [
    {
     "name": "stdout",
     "output_type": "stream",
     "text": [
      "--513--\n",
      "--438--\n",
      "--399--\n"
     ]
    }
   ],
   "source": [
    "for _, n in [('박정희', 513), ('이승만', 438), ('노태우', 399)]:\n",
    "    print(f\"--{n}--\")"
   ]
  },
  {
   "cell_type": "code",
   "execution_count": 104,
   "id": "08145d99-adc6-4667-9806-d0e3a7e59cda",
   "metadata": {},
   "outputs": [],
   "source": [
    "a, c, _ = (1, 2, 3) #_는 안받겠다는 거임. 그러나 형태는 맞춰야해서 _로 빈칸 뚫어준 거."
   ]
  },
  {
   "cell_type": "code",
   "execution_count": 105,
   "id": "58369b49-714b-4a1b-86aa-1b01a55a004e",
   "metadata": {},
   "outputs": [
    {
     "name": "stdout",
     "output_type": "stream",
     "text": [
      "399 -> 399\n",
      "399 -> 399\n",
      "399 -> 399\n"
     ]
    }
   ],
   "source": [
    "for a, c in [('박정희', 513), ('이승만', 438), ('노태우', 399)]:\n",
    "    print(f\"{n} -> {i}\")"
   ]
  },
  {
   "cell_type": "code",
   "execution_count": 110,
   "id": "587f493b-e977-4ceb-99bd-414182e1ac19",
   "metadata": {},
   "outputs": [
    {
     "name": "stdout",
     "output_type": "stream",
     "text": [
      "박정희 -> 513\n",
      "이승만 -> 438\n",
      "노태우 -> 399\n",
      "김대중 -> 305\n",
      "문재인 -> 275\n",
      "김영삼 -> 274\n",
      "이명박 -> 262\n",
      "전두환 -> 242\n",
      "노무현 -> 230\n",
      "박근혜 -> 111\n",
      "최규하 -> 14\n",
      "윤보선 -> 1\n"
     ]
    }
   ],
   "source": [
    "for p_name, s_count in presidents_speeches.items():\n",
    "    print(f\"{p_name} -> {s_count}\")           #둘다 가능\n",
    "    #print( p_name + \" -> \" + str(s_count))    #둘다 가능"
   ]
  },
  {
   "cell_type": "code",
   "execution_count": 109,
   "id": "1ac20f79-0828-4c47-9018-eea21fb69421",
   "metadata": {},
   "outputs": [
    {
     "name": "stdout",
     "output_type": "stream",
     "text": [
      "박정희 -> 513\n",
      "이승만 -> 438\n",
      "노태우 -> 399\n",
      "김대중 -> 305\n",
      "문재인 -> 275\n",
      "김영삼 -> 274\n",
      "이명박 -> 262\n",
      "전두환 -> 242\n",
      "노무현 -> 230\n",
      "박근혜 -> 111\n",
      "최규하 -> 14\n",
      "윤보선 -> 1\n"
     ]
    }
   ],
   "source": [
    "for p_name, s_count in presidents_speeches.items():\n",
    "    president_row = sdf[sdf[\"president\"] == p_name]\n",
    "    print( p_name + \" -> \" + str(s_count) )    #위와 같은 결과물 출력하는 함수"
   ]
  },
  {
   "cell_type": "code",
   "execution_count": null,
   "id": "50ac66c5-ea62-4049-b0bf-a5ccd6dca866",
   "metadata": {},
   "outputs": [],
   "source": []
  }
 ],
 "metadata": {
  "kernelspec": {
   "display_name": "Python 3 (ipykernel)",
   "language": "python",
   "name": "python3"
  },
  "language_info": {
   "codemirror_mode": {
    "name": "ipython",
    "version": 3
   },
   "file_extension": ".py",
   "mimetype": "text/x-python",
   "name": "python",
   "nbconvert_exporter": "python",
   "pygments_lexer": "ipython3",
   "version": "3.10.12"
  }
 },
 "nbformat": 4,
 "nbformat_minor": 5
}
