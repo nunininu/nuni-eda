{
 "cells": [
  {
   "cell_type": "markdown",
   "id": "9daf4257-74d8-43bc-a523-954cb0055a2d",
   "metadata": {},
   "source": [
    "t = (1,2,3,4)\n",
    "\n",
    "print(sum(t))  #i반복문 쓸 필요 없이 내장함수로도 쌉가능"
   ]
  },
  {
   "cell_type": "markdown",
   "id": "16dcde29-2bd3-43d7-a0fe-4d16fb2eddf6",
   "metadata": {},
   "source": [
    "# 마크다운도 쓸 수 있다"
   ]
  },
  {
   "cell_type": "markdown",
   "id": "8d4b8d4a-3f66-4f03-a619-2a9ff0acaa8f",
   "metadata": {},
   "source": [
    "# 마크다운도 쓸 수 있다"
   ]
  },
  {
   "cell_type": "code",
   "execution_count": null,
   "id": "d087c694-342c-4202-bd69-ff7c5126edef",
   "metadata": {},
   "outputs": [],
   "source": []
  }
 ],
 "metadata": {
  "kernelspec": {
   "display_name": "Python 3 (ipykernel)",
   "language": "python",
   "name": "python3"
  },
  "language_info": {
   "codemirror_mode": {
    "name": "ipython",
    "version": 3
   },
   "file_extension": ".py",
   "mimetype": "text/x-python",
   "name": "python",
   "nbconvert_exporter": "python",
   "pygments_lexer": "ipython3",
   "version": "3.10.12"
  }
 },
 "nbformat": 4,
 "nbformat_minor": 5
}
